{
 "cells": [
  {
   "cell_type": "code",
   "execution_count": 7,
   "metadata": {},
   "outputs": [],
   "source": [
    "from bs4 import BeautifulSoup\n",
    "from selenium import webdriver\n",
    "from selenium.webdriver.common.keys import Keys\n",
    "from selenium.webdriver.common.by import By\n",
    "\n",
    "def extract_html_from_url(url):\n",
    "    # Fetch HTML content from the URL using selenium\n",
    "    \n",
    "    options = webdriver.ChromeOptions()\n",
    "    options.add_argument('--ignore-certificate-errors')\n",
    "    options.add_argument('--incognito')\n",
    "    options.add_argument('--headless')\n",
    "    driver = webdriver.Chrome(options=options)\n",
    "    driver.get(url)\n",
    "    driver.implicitly_wait(2)\n",
    "    response_content = driver.execute_script(\"return document.documentElement.outerHTML;\")\n",
    "\n",
    "    driver.quit()\n",
    "    # Parse HTML content using BeautifulSoup\n",
    "    soup = BeautifulSoup(response_content, \"html.parser\")\n",
    "    excluded_tagNames = [\"footer\", \"nav\"]\n",
    "    # Exclude elements with tag names 'footer' and 'nav'\n",
    "    for tag_name in excluded_tagNames:\n",
    "        for unwanted_tag in soup.find_all(tag_name):\n",
    "            unwanted_tag.extract()\n",
    "\n",
    "    # Process the soup to maintain hrefs in anchor tags\n",
    "    for a_tag in soup.find_all(\"a\"):\n",
    "        href = a_tag.get(\"href\")\n",
    "        if href:\n",
    "            a_tag.string = f\"{a_tag.get_text()} ({href})\"\n",
    "\n",
    "    return ' '.join(soup.stripped_strings)  # Return text content with preserved hrefs\n",
    "\n"
   ]
  },
  {
   "cell_type": "code",
   "execution_count": 5,
   "metadata": {},
   "outputs": [],
   "source": [
    "from pydantic import BaseModel, Field\n",
    "from typing import Optional\n",
    "from langchain.prompts import PromptTemplate\n",
    "from langchain.output_parsers import PydanticOutputParser\n",
    "from langchain_openai import ChatOpenAI\n",
    "from dotenv import load_dotenv\n",
    "\n",
    "load_dotenv()\n",
    "\n",
    "class Restaurant(BaseModel):\n",
    "    position: int = Field(description=\"Position\")\n",
    "    name: str = Field(description=\"Name of the restaurant\")\n",
    "    ranking: float = Field(description=\"Score/Ranking of the restaurant by the users\")\n",
    "    opinions: Optional[int] = Field(description=\"Number of the opinions given to the restaurant\")\n",
    "    price: Optional[str] = Field(description=\"Average range of price for the restaurant\")\n",
    "    type: str = Field(description=\"Type of restaurante: japanese, mediterranean, etc.\")\n",
    "    address: str = Field(description=\"Address of the restaurant\")\n",
    "    phone_number: Optional[str] = Field(description=\"Phone number of the restaurant\")\n",
    "    time_table: str = Field(description=\"Timetable of the restaurant\")\n",
    "    \n",
    "class RestaurantScrapper(BaseModel):\n",
    "    Restaurants: list[Restaurant] = Field(\"List of all the activities listed in the text\")\n",
    "\n",
    "\n",
    "llm = ChatOpenAI(temperature=0)\n",
    "output_parser = PydanticOutputParser(pydantic_object = RestaurantScrapper)\n",
    "\n",
    "prompt_template = \"\"\"\n",
    "You are an expert making web scrapping and analyzing HTML raw code.\n",
    "If there is no explicit information don't make any assumption.\n",
    "Extract all objects that matched the instructions from the following html\n",
    "{html_text}\n",
    "Provide them in a list, also if there is a next page link remember to add it to the object.\n",
    "Please, follow carefulling the following instructions\n",
    "{format_instructions}\n",
    "\"\"\"\n",
    "\n",
    "prompt = PromptTemplate(\n",
    "    template=prompt_template,\n",
    "    input_variables=[\"html_text\"],\n",
    "    partial_variables={\"format_instructions\": output_parser.get_format_instructions}\n",
    ")\n",
    "\n",
    "chain = prompt | llm | output_parser\n"
   ]
  },
  {
   "cell_type": "code",
   "execution_count": 8,
   "metadata": {},
   "outputs": [
    {
     "data": {
      "text/plain": [
       "[Restaurant(position=1, name='Restaurant A', ranking=4.5, opinions=200, price='$$$', type='Mediterranean', address='123 Main St, City, Country', phone_number='123-456-7890', time_table='Mon-Sun: 11am-10pm'),\n",
       " Restaurant(position=2, name='Restaurant B', ranking=4.2, opinions=150, price='$$', type='Japanese', address='456 Elm St, City, Country', phone_number='987-654-3210', time_table='Tue-Sat: 12pm-9pm')]"
      ]
     },
     "execution_count": 8,
     "metadata": {},
     "output_type": "execute_result"
    }
   ],
   "source": [
    "url = \"https://www.google.com/maps/search/restaurantes/@40.4439646,-3.6728576,16.03z?hl=es&entry=ttu\"\n",
    "html_text_parsed = extract_html_from_url(url)\n",
    "restaurants = chain.invoke(input={\n",
    "    \"html_text\": html_text_parsed\n",
    "})\n",
    "restaurants.Restaurants"
   ]
  }
 ],
 "metadata": {
  "kernelspec": {
   "display_name": "Python 3",
   "language": "python",
   "name": "python3"
  },
  "language_info": {
   "codemirror_mode": {
    "name": "ipython",
    "version": 3
   },
   "file_extension": ".py",
   "mimetype": "text/x-python",
   "name": "python",
   "nbconvert_exporter": "python",
   "pygments_lexer": "ipython3",
   "version": "3.11.7"
  }
 },
 "nbformat": 4,
 "nbformat_minor": 2
}
