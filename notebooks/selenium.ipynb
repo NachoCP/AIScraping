{
 "cells": [
  {
   "cell_type": "code",
   "execution_count": 1,
   "metadata": {},
   "outputs": [],
   "source": [
    "from bs4 import BeautifulSoup\n",
    "from selenium import webdriver\n",
    "from selenium.webdriver.common.keys import Keys\n",
    "from selenium.webdriver.common.by import By\n",
    "\n",
    "def extract_html_from_url(url):\n",
    "    # Fetch HTML content from the URL using selenium\n",
    "    \n",
    "    options = webdriver.ChromeOptions()\n",
    "    options.add_argument('--ignore-certificate-errors')\n",
    "    options.add_argument('--incognito')\n",
    "    options.add_argument('--headless')\n",
    "    driver = webdriver.Chrome(chrome_options=options)\n",
    "    driver.get(url)\n",
    "    driver.implicitly_wait(2)\n",
    "    response_content = driver.execute(\"return document.documentElement.outerHTML\")\n",
    "    driver.quit()\n",
    "    # Parse HTML content using BeautifulSoup\n",
    "    soup = BeautifulSoup(response_content, \"html.parser\")\n",
    "    excluded_tagNames = [\"footer\", \"nav\"]\n",
    "    # Exclude elements with tag names 'footer' and 'nav'\n",
    "    for tag_name in excluded_tagNames:\n",
    "        for unwanted_tag in soup.find_all(tag_name):\n",
    "            unwanted_tag.extract()\n",
    "\n",
    "    # Process the soup to maintain hrefs in anchor tags\n",
    "    for a_tag in soup.find_all(\"a\"):\n",
    "        href = a_tag.get(\"href\")\n",
    "        if href:\n",
    "            a_tag.string = f\"{a_tag.get_text()} ({href})\"\n",
    "\n",
    "    return ' '.join(soup.stripped_strings)  # Return text content with preserved hrefs\n",
    "\n"
   ]
  },
  {
   "cell_type": "code",
   "execution_count": 7,
   "metadata": {},
   "outputs": [],
   "source": [
    "from pydantic import BaseModel, Field\n",
    "from typing import Optional\n",
    "from langchain.prompts import PromptTemplate\n",
    "from langchain.output_parsers import PydanticOutputParser\n",
    "from langchain_openai import ChatOpenAI\n",
    "from dotenv import load_dotenv\n",
    "\n",
    "load_dotenv()\n",
    "\n",
    "class Activity(BaseModel):\n",
    "    title: str = Field(description=\"The title of the activity.\")\n",
    "    rating: float = Field(description=\"The average user rating out of 10.\")\n",
    "    reviews_count: int = Field(description=\"The total number of reviews received.\")\n",
    "    travelers_count: Optional[int] = Field(description=\"The number of travelers who have participated.\")\n",
    "    cancellation_policy: Optional[str] = Field(description=\"The cancellation policy for the activity.\")\n",
    "    description: str = Field(description=\"A detailed description of what the activity entails.\")\n",
    "    duration: str = Field(description=\"The duration of the activity, usually given in hours or days.\")\n",
    "    language: Optional[str] = Field(description=\"The primary language in which the activity is conducted.\")\n",
    "    category: str = Field(description=\"The category of the activity, such as 'Paseos en barco', 'City Tours', etc.\")\n",
    "    price: float = Field(description=\"The price of the activity.\")\n",
    "    currency: str = Field(description=\"The currency in which the price is denominated, such as USD, EUR, GBP, etc.\")\n",
    "\n",
    "    \n",
    "class ActivityScrapper(BaseModel):\n",
    "    Activities: list[Activity] = Field(\"List of all the activities listed in the text\")\n",
    "\n",
    "\n",
    "llm = ChatOpenAI(temperature=0)\n",
    "output_parser = PydanticOutputParser(pydantic_object = ActivityScrapper)\n",
    "\n",
    "prompt_template = \"\"\"\n",
    "You are an expert making web scrapping and analyzing HTML raw code.\n",
    "If there is no explicit information don't make any assumption.\n",
    "Extract all objects that matched the instructions from the following html\n",
    "{html_text}\n",
    "Provide them in a list, also if there is a next page link remember to add it to the object.\n",
    "Please, follow carefulling the following instructions\n",
    "{format_instructions}\n",
    "\"\"\"\n",
    "\n",
    "prompt = PromptTemplate(\n",
    "    template=prompt_template,\n",
    "    input_variables=[\"html_text\"],\n",
    "    partial_variables={\"format_instructions\": output_parser.get_format_instructions}\n",
    ")\n",
    "\n",
    "chain = prompt | llm | output_parser\n"
   ]
  },
  {
   "cell_type": "code",
   "execution_count": 8,
   "metadata": {},
   "outputs": [
    {
     "data": {
      "text/plain": [
       "[Activity(title='Paseo en barco al anochecer', rating=8.4, reviews_count=9439, travelers_count=118389, cancellation_policy='Cancelación gratuita', description='En este crucero disfrutaréis de las mejores vistas de Budapest cuando se viste de gala, al anochecer. El barco es panorámico y tiene partes descubiertas.', duration='1 hora', language='Español', category='Paseos en barco', price=21.0, currency='€'),\n",
       " Activity(title='Visita guiada por el Parlamento de Budapest', rating=8.8, reviews_count=2647, travelers_count=34872, cancellation_policy='Cancelación gratuita', description='El Parlamento de Budapest es uno de los edificios más bonitos de la capital húngara. Comprobadlo vosotros mismos en este tour en español que incluye la entrada.', duration='2 horas', language='Español', category='Visitas guiadas y free tours', price=27.0, currency='€'),\n",
       " Activity(title='Crucero por el Danubio en Budapest', rating=8.6, reviews_count=3116, travelers_count=41336, cancellation_policy='Cancelación gratuita', description='¿Buscando el mejor crucero por el Danubio? Este paseo en barco por Budapest os mostrará los puentes y monumentos de la ciudad desde una perspectiva única.', duration='1h 10m', language='Español', category='Paseos en barco', price=15.0, currency='€'),\n",
       " Activity(title='Free tour por Budapest', rating=9.1, reviews_count=19644, travelers_count=201899, cancellation_policy='Cancelación gratuita', description='Nuestro free tour por Budapest es la mejor visita a pie para conocer la Perla del Danubio con un guía local. ¡Ideal si acabáis de llegar a la capital húngara!', duration='2h 30m', language='Español', category='Visitas guiadas y free tours', price=0.0, currency='€'),\n",
       " Activity(title='Visita guiada por la Ópera de Budapest', rating=8.6, reviews_count=1745, travelers_count=19383, cancellation_policy='Cancelación gratuita', description='Destapad vuestro lado más musical en esta visita guiada por la Ópera de Budapest. Además, podréis deleitar a vuestros oídos con un concierto en directo.', duration='1 hora', language='Español', category='Visitas guiadas y free tours', price=22.7, currency='€'),\n",
       " Activity(title='Traslados en Budapest', rating=9.6, reviews_count=13081, travelers_count=153434, cancellation_policy='Cancelación gratuita', description='Servicio privado, puerta a puerta y al mejor precio. Un chófer os esperará en el aeropuerto, en el hotel o donde queráis para llevaros a vuestro destino. Rápido y seguro.', duration='Precio final', language='Español', category='Servicios adicionales', price=44.5, currency='€'),\n",
       " Activity(title='Entrada al Balneario Széchenyi', rating=7.8, reviews_count=8804, travelers_count=151726, cancellation_policy='Cancelación gratuita', description='Adquiriendo la entrada al Balneario Széchenyi podréis disfrutar de las termas más famosas de Budapest y una de las más fascinantes del mundo.', duration='1 día', language='N/A', category='Entradas', price=42.0, currency='€'),\n",
       " Activity(title='Tour de fiesta por los ruin pubs de Budapest', rating=9.2, reviews_count=1053, travelers_count=9704, cancellation_policy='Cancelación gratuita', description='Divertíos al estilo húngaro en este tour de fiesta por los ruin pubs de Budapest. Descubriremos el origen de estos bares en una noche inolvidable.', duration='2h 30m', language='Español', category='Visitas guiadas y free tours', price=24.0, currency='€'),\n",
       " Activity(title='Free tour por el Budapest histórico', rating=9.7, reviews_count=4203, travelers_count=45365, cancellation_policy='Cancelación gratuita', description='Recorred la parte sur de la capital húngara y descubrid su historia con este free tour por el Budapest histórico. ¡Os sorprenderá!', duration='2h 30m', language='Español', category='Visitas guiadas y free tours', price=0.0, currency='€'),\n",
       " Activity(title='Visita guiada por Budapest + Parlamento', rating=7.3, reviews_count=2086, travelers_count=18370, cancellation_policy='Cancelación gratuita', description='En este tour recorreremos los principales puntos de interés de Budapest y visitaremos su impresionante Parlamento. Además, ¡nos saltaremos las colas!', duration='4h 30m', language='Español', category='Visitas guiadas y free tours', price=55.0, currency='€'),\n",
       " Activity(title='Excursión a Esztergom, Visegrád y Szentendre', rating=7.0, reviews_count=1270, travelers_count=10368, cancellation_policy='Cancelación gratuita', description='Aprovechad vuestro paso por Budapest para visitar Esztergom, Visegrád y Szentendre. Conoceréis tres de las ciudades más bonitas del Danubio.', duration='8h 30m', language='Español', category='Excursiones de un día', price=72.0, currency='€'),\n",
       " Activity(title='Seguro de viaje Civitatis', rating=8.4, reviews_count=1215, travelers_count=0, cancellation_policy='N/A', description='Con nuestro seguro de viajes solo tendrás que preocuparte de desconectar y disfrutar de tus vacaciones. ¡No dejes que nada estropee tu viaje!', duration='5 - 31d', language='N/A', category='Servicios adicionales', price=17.57, currency='€'),\n",
       " Activity(title='Free tour por el castillo de Buda', rating=9.0, reviews_count=4340, travelers_count=48619, cancellation_policy='Cancelación gratuita', description='En este free tour por el castillo de Buda visitaremos uno de los monumentos más famosos de Budapest. Os desvelaremos los secretos de la antigua residencia real.', duration='2h 30m', language='Español', category='Visitas guiadas y free tours', price=0.0, currency='€'),\n",
       " Activity(title='Crucero con cena y música en vivo 19:00h', rating=8.1, reviews_count=809, travelers_count=9826, cancellation_policy='Cancelación gratuita', description='¿Queréis una velada romántica? En este crucero por el Danubio con cena y música en vivo zarparéis a las 19:00 horas para admirar la belleza de Budapest.', duration='2 horas', language='N/A', category='Paseos en barco', price=89.0, currency='€'),\n",
       " Activity(title='Free tour nocturno por el castillo de Buda', rating=9.4, reviews_count=1852, travelers_count=27277, cancellation_policy='Cancelación gratuita', description='En este free tour nocturno por el castillo de Buda descubriremos los secretos mejor guardados de esta impresionante fortaleza bajo el cielo estrellado.', duration='2h 15m', language='Español', category='Visitas guiadas y free tours', price=0.0, currency='€'),\n",
       " Activity(title='Visita al Palacio de Sissi', rating=8.3, reviews_count=509, travelers_count=4840, cancellation_policy='Cancelación gratuita', description='Conoce la leyenda de Sissi en su antigua residencia de verano, el Palacio Gödöllö, comparado con Versalles en innumerables ocasiones.', duration='3 horas', language='Español', category='Excursiones de un día', price=48.0, currency='€'),\n",
       " Activity(title='Tour privado por Budapest con guía en español', rating=9.0, reviews_count=253, travelers_count=5703, cancellation_policy='Cancelación gratuita', description='Reservando el tour privado tendréis un guía en exclusiva para descubrir Budapest. ¡La forma más personalizada de conocer la capital de Hungría!', duration='2h 30m - 5h', language='Español', category='Visitas guiadas y free tours', price=275.0, currency='€'),\n",
       " Activity(title='Free tour por el barrio judío', rating=9.0, reviews_count=2174, travelers_count=29270, cancellation_policy='Cancelación gratuita', description='¿Queréis saber quiénes fueron los héroes de la Segunda Guerra Mundial en Budapest? En este free tour por el barrio judío de la capital húngara los conoceremos.', duration='2h 15m', language='Español', category='Visitas guiadas y free tours', price=0.0, currency='€'),\n",
       " Activity(title='Crucero con pizza y barra libre', rating=8.0, reviews_count=335, travelers_count=4861, cancellation_policy='Cancelación gratuita', description='Disfrutad de las increíbles vistas de Budapest cenando al mejor precio, con vuestra pizza preferida y barra libre de cerveza y refrescos.', duration='1h 25m', language='N/A', category='Paseos en barco', price=41.9, currency='€')]"
      ]
     },
     "execution_count": 8,
     "metadata": {},
     "output_type": "execute_result"
    }
   ],
   "source": [
    "url = \"https://www.civitatis.com/es/budapest/\"\n",
    "html_text_parsed = extract_html_from_url(url)\n",
    "activites = chain.invoke(input={\n",
    "    \"html_text\": html_text_parsed\n",
    "})\n",
    "activites.Activities"
   ]
  }
 ],
 "metadata": {
  "kernelspec": {
   "display_name": "Python 3",
   "language": "python",
   "name": "python3"
  },
  "language_info": {
   "codemirror_mode": {
    "name": "ipython",
    "version": 3
   },
   "file_extension": ".py",
   "mimetype": "text/x-python",
   "name": "python",
   "nbconvert_exporter": "python",
   "pygments_lexer": "ipython3",
   "version": "3.11.7"
  }
 },
 "nbformat": 4,
 "nbformat_minor": 2
}
